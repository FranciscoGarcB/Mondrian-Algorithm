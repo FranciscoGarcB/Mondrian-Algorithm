{
 "cells": [
  {
   "cell_type": "markdown",
   "metadata": {},
   "source": [
    "# K-Anonymity of a numerical quasi-identifier using a real-world AI generated dataset from: https://www.kaggle.com/datasets/ohinhaque/ocd-patient-dataset-demographics-and-clinical-data/"
   ]
  },
  {
   "cell_type": "code",
   "execution_count": 2,
   "metadata": {},
   "outputs": [],
   "source": [
    "import pandas as pd\n",
    "import random\n",
    "\n",
    "def anonymize_multidim(data, qis, k):\n",
    "    assert isinstance(data, pd.DataFrame), \"Data must be a Pandas dataframe\"\n",
    "    assert isinstance(k, int) and k > 1, \"k must be an integer bigger than 1\"\n",
    "    assert all(qi in data.columns for qi in qis), \"All QIs must be columns in the data\"\n",
    "\n",
    "    def mondrian(data, qis, k):\n",
    "        partition = []\n",
    "\n",
    "        if len(data) <= (2 * k - 1):\n",
    "            partition.append(data)\n",
    "            return [data]\n",
    "\n",
    "        # Select QI to partition\n",
    "        qi = select_qi_for_partition(data, qis)\n",
    "\n",
    "        # Sort data by QI\n",
    "        data = data.sort_values(by=qi)\n",
    "\n",
    "        # Number of total values\n",
    "        si = data[qi].count()\n",
    "        mid = si // 2\n",
    "\n",
    "        # Split data\n",
    "        lhs = data[:mid]\n",
    "        rhs = data[mid:]\n",
    "\n",
    "        partition.extend(mondrian(lhs, qis, k))\n",
    "        partition.extend(mondrian(rhs, qis, k))\n",
    "\n",
    "        return partition\n",
    "    \n",
    "    def select_qi_for_partition(data, qis):\n",
    "        return qis[0]  # Simple example, can be updated\n",
    "\n",
    "    result_partitions = mondrian(data, qis, k)\n",
    "\n",
    "    # Anonymize\n",
    "    result_final = []\n",
    "\n",
    "    for partition in result_partitions:\n",
    "        anonymized_partition = partition.copy()\n",
    "        for qi in qis:\n",
    "            part_min = partition[qi].min()\n",
    "            part_max = partition[qi].max()\n",
    "            anonymized_partition[qi] = f\"[{part_min} - {part_max}]\"\n",
    "        result_final.append(anonymized_partition)\n",
    "\n",
    "    anonymized = pd.concat(result_final)\n",
    "    \n",
    "    return anonymized\n"
   ]
  },
  {
   "cell_type": "code",
   "execution_count": 3,
   "metadata": {},
   "outputs": [],
   "source": [
    "# Import dataset\n",
    "df = pd.read_csv(\"ocd_patient_dataset.csv\")\n",
    "df = df[[\"Age\", \"Y-BOCS Score (Obsessions)\", \"Y-BOCS Score (Compulsions)\"]]"
   ]
  },
  {
   "cell_type": "code",
   "execution_count": 4,
   "metadata": {},
   "outputs": [
    {
     "data": {
      "text/html": [
       "<div>\n",
       "<style scoped>\n",
       "    .dataframe tbody tr th:only-of-type {\n",
       "        vertical-align: middle;\n",
       "    }\n",
       "\n",
       "    .dataframe tbody tr th {\n",
       "        vertical-align: top;\n",
       "    }\n",
       "\n",
       "    .dataframe thead th {\n",
       "        text-align: right;\n",
       "    }\n",
       "</style>\n",
       "<table border=\"1\" class=\"dataframe\">\n",
       "  <thead>\n",
       "    <tr style=\"text-align: right;\">\n",
       "      <th></th>\n",
       "      <th>Age</th>\n",
       "      <th>Y-BOCS Score (Obsessions)</th>\n",
       "      <th>Y-BOCS Score (Compulsions)</th>\n",
       "    </tr>\n",
       "  </thead>\n",
       "  <tbody>\n",
       "    <tr>\n",
       "      <th>1499</th>\n",
       "      <td>[18 - 18]</td>\n",
       "      <td>22</td>\n",
       "      <td>34</td>\n",
       "    </tr>\n",
       "    <tr>\n",
       "      <th>1459</th>\n",
       "      <td>[18 - 18]</td>\n",
       "      <td>16</td>\n",
       "      <td>31</td>\n",
       "    </tr>\n",
       "    <tr>\n",
       "      <th>670</th>\n",
       "      <td>[18 - 18]</td>\n",
       "      <td>11</td>\n",
       "      <td>0</td>\n",
       "    </tr>\n",
       "    <tr>\n",
       "      <th>1451</th>\n",
       "      <td>[18 - 18]</td>\n",
       "      <td>30</td>\n",
       "      <td>16</td>\n",
       "    </tr>\n",
       "    <tr>\n",
       "      <th>922</th>\n",
       "      <td>[18 - 18]</td>\n",
       "      <td>28</td>\n",
       "      <td>26</td>\n",
       "    </tr>\n",
       "  </tbody>\n",
       "</table>\n",
       "</div>"
      ],
      "text/plain": [
       "            Age  Y-BOCS Score (Obsessions)  Y-BOCS Score (Compulsions)\n",
       "1499  [18 - 18]                         22                          34\n",
       "1459  [18 - 18]                         16                          31\n",
       "670   [18 - 18]                         11                           0\n",
       "1451  [18 - 18]                         30                          16\n",
       "922   [18 - 18]                         28                          26"
      ]
     },
     "execution_count": 4,
     "metadata": {},
     "output_type": "execute_result"
    }
   ],
   "source": [
    "columns_to_anonymize = [\"Age\"]\n",
    "\n",
    "df_anonymized = anonymize_multidim(df, columns_to_anonymize, 20)\n",
    "df_anonymized.head(5)"
   ]
  },
  {
   "cell_type": "code",
   "execution_count": 5,
   "metadata": {},
   "outputs": [
    {
     "data": {
      "image/png": "[encoded data removed]",
      "text/plain": [
       "<Figure size 1200x600 with 2 Axes>"
      ]
     },
     "metadata": {},
     "output_type": "display_data"
    },
    {
     "data": {
      "text/plain": [
       "(count    1500.000000\n",
       " mean       46.781333\n",
       " std        16.830321\n",
       " min        18.000000\n",
       " 25%        32.000000\n",
       " 50%        47.000000\n",
       " 75%        61.000000\n",
       " max        75.000000\n",
       " Name: Age, dtype: float64,\n",
       " count    1500.000000\n",
       " mean       46.681667\n",
       " std        16.877689\n",
       " min        18.000000\n",
       " 25%        32.250000\n",
       " 50%        47.000000\n",
       " 75%        60.750000\n",
       " max        75.000000\n",
       " Name: Age_Midpoint, dtype: float64)"
      ]
     },
     "execution_count": 5,
     "metadata": {},
     "output_type": "execute_result"
    }
   ],
   "source": [
    "import numpy as np\n",
    "import matplotlib.pyplot as plt\n",
    "\n",
    "def extract_midpoint(range_str):\n",
    "    # Calculate the mean of the range in string format\n",
    "    return np.mean(list(map(int, range_str.strip('[]').split(' - '))))\n",
    "\n",
    "# Extract the midpoint for each anonymized column\n",
    "for column in columns_to_anonymize:\n",
    "    df_anonymized[f'{column}_Midpoint'] = df_anonymized[column].apply(extract_midpoint)\n",
    "\n",
    "# Create figures to compare distributions\n",
    "# Modificado para crear solo un conjunto de 1 fila y 2 columnas\n",
    "fig, axes = plt.subplots(1, 2, figsize=(12, 6))\n",
    "\n",
    "# Age Distribution in Original Data\n",
    "axes[0].hist(df['Age'], bins=range(df['Age'].min(), df['Age'].max() + 1), alpha=0.7, color='blue')\n",
    "axes[0].set_title('Age Distribution (Original)')\n",
    "\n",
    "# Age Distribution in Anonymized Data\n",
    "axes[1].hist(df_anonymized['Age_Midpoint'], bins=range(int(df_anonymized['Age_Midpoint'].min()), int(df_anonymized['Age_Midpoint'].max()) + 1), alpha=0.7, color='green')\n",
    "axes[1].set_title('Age Distribution (Anonymized)')\n",
    "\n",
    "plt.show()\n",
    "\n",
    "# Calculate and compare summary metrics\n",
    "summary_original_age = df['Age'].describe()\n",
    "summary_anonymized_age = df_anonymized['Age_Midpoint'].describe()\n",
    "\n",
    "(summary_original_age, summary_anonymized_age)\n"
   ]
  },
  {
   "cell_type": "code",
   "execution_count": 11,
   "metadata": {},
   "outputs": [
    {
     "name": "stdout",
     "output_type": "stream",
     "text": [
      "Percentage Error for mean: 0.21304793934903785 %\n",
      "Percentage Error for standard deviation: 0.28144956369022006 %\n"
     ]
    }
   ],
   "source": [
    "# Calculate the percentage error for mean\n",
    "original_age_mean = summary_original_age[1]\n",
    "anonymized_age_mean = summary_anonymized_age[1]\n",
    "percentage_error_mean = abs((original_age_mean - anonymized_age_mean) / original_age_mean) * 100\n",
    "\n",
    "# Calculate the percentage error for standard deviation\n",
    "original_age_std = summary_original_age[2]\n",
    "anonymized_age_std = summary_anonymized_age[2]\n",
    "percentage_error_std = abs((original_age_std - anonymized_age_std) / original_age_std) * 100\n",
    "\n",
    "# Print the results\n",
    "print(\"Percentage Error for mean:\", percentage_error_mean, \"%\")\n",
    "print(\"Percentage Error for standard deviation:\", percentage_error_std, \"%\")"
   ]
  }
 ],
 "metadata": {
  "kernelspec": {
   "display_name": "base",
   "language": "python",
   "name": "python3"
  },
  "language_info": {
   "codemirror_mode": {
    "name": "ipython",
    "version": 3
   },
   "file_extension": ".py",
   "mimetype": "text/x-python",
   "name": "python",
   "nbconvert_exporter": "python",
   "pygments_lexer": "ipython3",
   "version": "3.11.5"
  }
 },
 "nbformat": 4,
 "nbformat_minor": 2
}
